{
 "cells": [
  {
   "cell_type": "code",
   "execution_count": 26,
   "id": "4a48c2b3",
   "metadata": {},
   "outputs": [
    {
     "name": "stdout",
     "output_type": "stream",
     "text": [
      "['apple', 'orange', 'banana', 'coconut', 'pineapple']\n",
      "coconut\n",
      "['apple', 'orange', 'banana']\n",
      "['pineapple', 'coconut', 'banana', 'orange', 'apple']\n"
     ]
    }
   ],
   "source": [
    "fruits = [\"apple\",\"orange\",\"banana\",\"coconut\",\"pineapple\"]\n",
    "print(fruits)\n",
    "print(fruits[3])\n",
    "print(fruits[0:3])\n",
    "print(fruits[::-1])\n",
    "fruits.append(\"apple\")\n",
    "fruits.remove(\"pineapple\")\n",
    "fruits.pop(1)\n",
    "fruits.insert(1,\"pineapple\")"
   ]
  },
  {
   "cell_type": "code",
   "execution_count": 27,
   "id": "a0881269",
   "metadata": {},
   "outputs": [
    {
     "name": "stdout",
     "output_type": "stream",
     "text": [
      "3\n",
      "1\n"
     ]
    }
   ],
   "source": [
    "\n",
    "print(fruits.index(\"coconut\"))\n",
    "print(fruits.count(\"pineapple\"))"
   ]
  },
  {
   "cell_type": "code",
   "execution_count": 28,
   "id": "13caa680",
   "metadata": {},
   "outputs": [
    {
     "name": "stdout",
     "output_type": "stream",
     "text": [
      "True\n",
      "True\n",
      "False\n",
      "True\n"
     ]
    }
   ],
   "source": [
    "list = [1,2,3,[4,5]]\n",
    "print(1 in list)\n",
    "print([4,5] in list)\n",
    "print(4 in list)\n",
    "print(4 in list[3])\n"
   ]
  },
  {
   "cell_type": "code",
   "execution_count": 31,
   "id": "e0d6252f",
   "metadata": {},
   "outputs": [
    {
     "name": "stdout",
     "output_type": "stream",
     "text": [
      "[4, 5, [6, 7, 8], 9]\n",
      "[6, 7, 8]\n",
      "7\n"
     ]
    }
   ],
   "source": [
    "list = [1,2,3,[4,5,[6,7,8],9]]\n",
    "print(list[3])\n",
    "print(list[3][2])\n",
    "print(list[3][2][1])"
   ]
  },
  {
   "cell_type": "code",
   "execution_count": 2,
   "id": "b3e6bd93",
   "metadata": {},
   "outputs": [
    {
     "name": "stdout",
     "output_type": "stream",
     "text": [
      "True\n",
      "[4, 5]\n"
     ]
    }
   ],
   "source": [
    "list = [1,2,3,[4,5]]\n",
    "print(1 in list)\n",
    "print(list[3])\n",
    "#print(list[3][2])"
   ]
  },
  {
   "cell_type": "code",
   "execution_count": null,
   "id": "e2218597",
   "metadata": {},
   "outputs": [
    {
     "name": "stdout",
     "output_type": "stream",
     "text": [
      "<generator object <genexpr> at 0x0000025AA1DB97D0>\n"
     ]
    }
   ],
   "source": [
    "squares=(x*2 for x in range(1,6))\n",
    "print(squares)"
   ]
  },
  {
   "cell_type": "code",
   "execution_count": 37,
   "id": "7f7ff2f8",
   "metadata": {},
   "outputs": [
    {
     "name": "stdout",
     "output_type": "stream",
     "text": [
      "['APPLE', 'BANANA', 'CHERRY']\n"
     ]
    }
   ],
   "source": [
    "words = [\"apple\",\"banana\",\"cherry\"]\n",
    "uppercased = [word.upper() for word in words]\n",
    "print(uppercased)"
   ]
  },
  {
   "cell_type": "code",
   "execution_count": 43,
   "id": "27d3a73d",
   "metadata": {},
   "outputs": [
    {
     "name": "stdout",
     "output_type": "stream",
     "text": [
      "{'apple', 'orange', 'coconut'}\n",
      "['__and__', '__class__', '__class_getitem__', '__contains__', '__delattr__', '__dir__', '__doc__', '__eq__', '__format__', '__ge__', '__getattribute__', '__getstate__', '__gt__', '__hash__', '__iand__', '__init__', '__init_subclass__', '__ior__', '__isub__', '__iter__', '__ixor__', '__le__', '__len__', '__lt__', '__ne__', '__new__', '__or__', '__rand__', '__reduce__', '__reduce_ex__', '__repr__', '__ror__', '__rsub__', '__rxor__', '__setattr__', '__sizeof__', '__str__', '__sub__', '__subclasshook__', '__xor__', 'add', 'clear', 'copy', 'difference', 'difference_update', 'discard', 'intersection', 'intersection_update', 'isdisjoint', 'issubset', 'issuperset', 'pop', 'remove', 'symmetric_difference', 'symmetric_difference_update', 'union', 'update']\n"
     ]
    }
   ],
   "source": [
    "fruits = {\"apple\",\"coconut\",\"coconut\",\"orange\"}\n",
    "print(fruits)\n",
    "print(dir(fruits))\n"
   ]
  },
  {
   "cell_type": "code",
   "execution_count": 44,
   "id": "53ef65b7",
   "metadata": {},
   "outputs": [
    {
     "name": "stdout",
     "output_type": "stream",
     "text": [
      "{'coconut'}\n"
     ]
    }
   ],
   "source": [
    "fruits.remove(\"apple\")\n",
    "fruits.pop()\n",
    "print(fruits)"
   ]
  },
  {
   "cell_type": "code",
   "execution_count": 53,
   "id": "c2450242",
   "metadata": {},
   "outputs": [
    {
     "name": "stdout",
     "output_type": "stream",
     "text": [
      "{'b', 'c', 'd'}\n"
     ]
    }
   ],
   "source": [
    "set1 = {\"a\",\"b\",\"c\",\"d\"}\n",
    "set1.remove(\"a\")\n",
    "print(set1)"
   ]
  },
  {
   "cell_type": "code",
   "execution_count": 54,
   "id": "fbe42567",
   "metadata": {},
   "outputs": [
    {
     "name": "stdout",
     "output_type": "stream",
     "text": [
      "('apple', 'banana', 'orange')\n"
     ]
    }
   ],
   "source": [
    "fruits = (\"apple\",\"banana\",\"orange\")\n",
    "print(fruits)"
   ]
  },
  {
   "cell_type": "code",
   "execution_count": 57,
   "id": "e491a032",
   "metadata": {},
   "outputs": [
    {
     "name": "stdout",
     "output_type": "stream",
     "text": [
      "apple\n",
      "1\n"
     ]
    }
   ],
   "source": [
    "len(fruits)\n",
    "print(fruits[0])\n",
    "print(fruits.count(\"apple\"))\n"
   ]
  },
  {
   "cell_type": "code",
   "execution_count": null,
   "id": "57ab65de",
   "metadata": {},
   "outputs": [
    {
     "name": "stdout",
     "output_type": "stream",
     "text": [
      "('Appke', 'banana', 'cherry', 'Watermelon', 'orange')\n"
     ]
    }
   ],
   "source": [
    "newTuple = (\"Apple\",\"banana\",\"cherry\",\"Watermelon\")\n",
    "y = (\"orange\",)\n",
    "newTuple+=y\n",
    "print(newTuple)"
   ]
  },
  {
   "cell_type": "code",
   "execution_count": 72,
   "id": "026e118e",
   "metadata": {},
   "outputs": [
    {
     "name": "stdout",
     "output_type": "stream",
     "text": [
      "apple\n",
      "kiwi\n",
      "['Banana', 'Cherry']\n"
     ]
    }
   ],
   "source": [
    "fruits = (\"apple\",\"Banana\",\"Cherry\",\"kiwi\")\n",
    "\n",
    "print(green)\n",
    "print(red)\n",
    "\n",
    "\n",
    "(green,*yellow,red) = fruits\n",
    "print(yellow)\n",
    "\n"
   ]
  },
  {
   "cell_type": "code",
   "execution_count": 5,
   "id": "0b9fc399",
   "metadata": {},
   "outputs": [
    {
     "name": "stdout",
     "output_type": "stream",
     "text": [
      "b\n"
     ]
    }
   ],
   "source": [
    "t = (1,2,(3,4),[\"a\",\"b\"])\n",
    "print(t[3][1])"
   ]
  },
  {
   "cell_type": "code",
   "execution_count": 76,
   "id": "db1fea92",
   "metadata": {},
   "outputs": [
    {
     "name": "stdout",
     "output_type": "stream",
     "text": [
      "[1, 'hello', 3.14, True] (1, 'hello', 3.14, True) (1, 'hello', 3.14, True)\n"
     ]
    }
   ],
   "source": [
    "list = [1,\"hello\",3.14,True]\n",
    "tuple = (1,\"hello\",3.14,True)\n",
    "set = (1,\"hello\",3.14,True)\n",
    "print(list,tuple,set)"
   ]
  },
  {
   "cell_type": "code",
   "execution_count": 3,
   "id": "8cc080c4",
   "metadata": {},
   "outputs": [
    {
     "name": "stdout",
     "output_type": "stream",
     "text": [
      "Yes it  is in the fruits set\n"
     ]
    }
   ],
   "source": [
    "fruits = [\"apple\",\"banana\",\"kiwi\",\"coconut\"]\n",
    "if \"apple\"  in fruits:\n",
    "    print(\"Yes it  is in the fruits set\")"
   ]
  },
  {
   "cell_type": "code",
   "execution_count": 7,
   "id": "b74785e2",
   "metadata": {},
   "outputs": [
    {
     "name": "stdout",
     "output_type": "stream",
     "text": [
      "apple\n",
      "['apple', 'banana', 'kiwi', 'coconut', 'apple', 'banana', 'kiwi', 'coconut', 'apple', 'banana', 'kiwi', 'coconut', 'apple', 'banana', 'kiwi', 'coconut', 'apple', 'banana', 'kiwi', 'coconut']\n",
      "banana\n",
      "['apple', 'banana', 'kiwi', 'coconut', 'apple', 'banana', 'kiwi', 'coconut', 'apple', 'banana', 'kiwi', 'coconut', 'apple', 'banana', 'kiwi', 'coconut', 'apple', 'banana', 'kiwi', 'coconut']\n",
      "kiwi\n",
      "['apple', 'banana', 'kiwi', 'coconut', 'apple', 'banana', 'kiwi', 'coconut', 'apple', 'banana', 'kiwi', 'coconut', 'apple', 'banana', 'kiwi', 'coconut', 'apple', 'banana', 'kiwi', 'coconut']\n",
      "coconut\n",
      "['apple', 'banana', 'kiwi', 'coconut', 'apple', 'banana', 'kiwi', 'coconut', 'apple', 'banana', 'kiwi', 'coconut', 'apple', 'banana', 'kiwi', 'coconut', 'apple', 'banana', 'kiwi', 'coconut']\n"
     ]
    }
   ],
   "source": [
    "\n",
    "i = 0 ;\n",
    "while i<len(fruits):\n",
    "       print(fruits[i])\n",
    "       i=i+1\n",
    "       print(fruits*5)"
   ]
  },
  {
   "cell_type": "code",
   "execution_count": 30,
   "id": "f99c769d",
   "metadata": {},
   "outputs": [
    {
     "name": "stdout",
     "output_type": "stream",
     "text": [
      "20\n",
      "20\n",
      "['__class__', '__class_getitem__', '__contains__', '__delattr__', '__delitem__', '__dir__', '__doc__', '__eq__', '__format__', '__ge__', '__getattribute__', '__getitem__', '__getstate__', '__gt__', '__hash__', '__init__', '__init_subclass__', '__ior__', '__iter__', '__le__', '__len__', '__lt__', '__ne__', '__new__', '__or__', '__reduce__', '__reduce_ex__', '__repr__', '__reversed__', '__ror__', '__setattr__', '__setitem__', '__sizeof__', '__str__', '__subclasshook__', 'clear', 'copy', 'fromkeys', 'get', 'items', 'keys', 'pop', 'popitem', 'setdefault', 'update', 'values']\n"
     ]
    }
   ],
   "source": [
    "student = {\n",
    "    1 : \"first\",\n",
    "    \"name\":\"Alice\",\n",
    "    \"age\":20,\n",
    "    \"courses\":[\"math\",\"science\"]\n",
    "}\n",
    "print(student[\"age\"])\n",
    "print(student.get(\"age\"))\n",
    "print(dir(student))\n",
    "student = dict(name=\"Alice\",age=30,city= \"New York\")\n"
   ]
  },
  {
   "cell_type": "code",
   "execution_count": 31,
   "id": "ee1e30e3",
   "metadata": {},
   "outputs": [
    {
     "name": "stdout",
     "output_type": "stream",
     "text": [
      "{'name': 'Alice', 'age': 25, 'city': 'New York', 'job': 'Engineering'}\n"
     ]
    }
   ],
   "source": [
    "student[\"job\"] = \"Engineering\"\n",
    "student[\"age\"] = 25\n",
    "print(student)\n"
   ]
  },
  {
   "cell_type": "code",
   "execution_count": 32,
   "id": "612f848a",
   "metadata": {},
   "outputs": [
    {
     "name": "stdout",
     "output_type": "stream",
     "text": [
      "{'name': 'Alice', 'age': 25, 'job': 'Engineering'}\n"
     ]
    }
   ],
   "source": [
    "del student[\"city\"]\n",
    "print(student)"
   ]
  },
  {
   "cell_type": "code",
   "execution_count": 34,
   "id": "a0b56373",
   "metadata": {},
   "outputs": [
    {
     "name": "stdout",
     "output_type": "stream",
     "text": [
      "name\n",
      "name Alice\n",
      "age 25\n",
      "job Engineering\n",
      "name Alice\n",
      "age 25\n",
      "job Engineering\n",
      "name Alice\n",
      "age 25\n",
      "job Engineering\n",
      "age\n",
      "name Alice\n",
      "age 25\n",
      "job Engineering\n",
      "name Alice\n",
      "age 25\n",
      "job Engineering\n",
      "name Alice\n",
      "age 25\n",
      "job Engineering\n",
      "job\n",
      "name Alice\n",
      "age 25\n",
      "job Engineering\n",
      "name Alice\n",
      "age 25\n",
      "job Engineering\n",
      "name Alice\n",
      "age 25\n",
      "job Engineering\n"
     ]
    }
   ],
   "source": [
    "for key in student:\n",
    "    print(key)\n",
    "    for value in student.values():\n",
    "        for key,value in student.items():\n",
    "         print(key,value)"
   ]
  },
  {
   "cell_type": "code",
   "execution_count": 1,
   "id": "cf9aba56",
   "metadata": {},
   "outputs": [
    {
     "name": "stdout",
     "output_type": "stream",
     "text": [
      "Alice\n"
     ]
    }
   ],
   "source": [
    "student = {\n",
    "    \"student1\":{\"name\": \"Alice\", \"age\":20},\n",
    "    \"student2\":{\"name\":\"Bob\",\"age\":20}\n",
    "}\n",
    "print(student[\"student1\"][\"name\"])"
   ]
  },
  {
   "cell_type": "code",
   "execution_count": null,
   "id": "7ec30059",
   "metadata": {},
   "outputs": [],
   "source": []
  }
 ],
 "metadata": {
  "kernelspec": {
   "display_name": "Python 3",
   "language": "python",
   "name": "python3"
  },
  "language_info": {
   "codemirror_mode": {
    "name": "ipython",
    "version": 3
   },
   "file_extension": ".py",
   "mimetype": "text/x-python",
   "name": "python",
   "nbconvert_exporter": "python",
   "pygments_lexer": "ipython3",
   "version": "3.13.1"
  }
 },
 "nbformat": 4,
 "nbformat_minor": 5
}
